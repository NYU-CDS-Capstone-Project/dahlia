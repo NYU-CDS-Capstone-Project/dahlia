{
 "cells": [
  {
   "cell_type": "code",
   "execution_count": 504,
   "metadata": {
    "collapsed": true
   },
   "outputs": [],
   "source": [
    "import json\n",
    "import nltk\n",
    "import string\n",
    "import collections\n",
    "import itertools\n",
    "import re\n",
    "import random"
   ]
  },
  {
   "cell_type": "code",
   "execution_count": 505,
   "metadata": {
    "collapsed": true
   },
   "outputs": [],
   "source": [
    "exclude = set(string.punctuation)"
   ]
  },
  {
   "cell_type": "code",
   "execution_count": 538,
   "metadata": {
    "collapsed": false
   },
   "outputs": [],
   "source": [
    "# Processed text (deprived of punctuations)\n",
    "text = []\n",
    "with open('retweetText', 'rb') as f:\n",
    "    for line in f:\n",
    "        if 'null' not in line:\n",
    "            content = line.decode('utf-8')\n",
    "            content = re.sub(r'(?i)\\b((?:https?://|www\\d{0,3}[.]|[a-z0-9.\\-]+[.][a-z]{2,4}/)(?:[^\\s()<>]+|\\(([^\\s()<>]+|(\\([^\\s()<>]+\\)))*\\))+(?:\\(([^\\s()<>]+|(\\([^\\s()<>]+\\)))*\\)|[^\\s`!()\\[\\]{};:\\'\".,<>?«»“”‘’]))', '', content)\n",
    "            s = ''.join(ch for ch in content if ch not in exclude)\n",
    "            text.append(nltk.word_tokenize(s.strip('\\n').strip('\\u')))"
   ]
  },
  {
   "cell_type": "code",
   "execution_count": 507,
   "metadata": {
    "collapsed": false
   },
   "outputs": [
    {
     "data": {
      "text/plain": [
       "884948"
      ]
     },
     "execution_count": 507,
     "metadata": {},
     "output_type": "execute_result"
    }
   ],
   "source": [
    "len(text)"
   ]
  },
  {
   "cell_type": "markdown",
   "metadata": {},
   "source": [
    "### Slicing the first words in all the text "
   ]
  },
  {
   "cell_type": "code",
   "execution_count": 508,
   "metadata": {
    "collapsed": false
   },
   "outputs": [],
   "source": [
    "top_50 = collections.Counter(itertools.chain(*text)).most_common(50)"
   ]
  },
  {
   "cell_type": "code",
   "execution_count": 426,
   "metadata": {
    "collapsed": false
   },
   "outputs": [
    {
     "name": "stdout",
     "output_type": "stream",
     "text": [
      "[u'Hillary', u'Clinton', u'to', u'for', u'a', u'the', u'champion', u'HillaryClinton', u'and', u'is', u'president', u'be', u'running', u'I', u'in', u'that', u'of', u'Im', u'need', u'Americans', u'want', u'her', u'Everyday', u'2016', u'\\u2013H', u'on', u'you', u'campaign', u'Hillary2016', u'she', u'President', u'will', u'de', u'has', u'Hillarys', u'BREAKING', u'just', u'with', u'amp', u'The', u'as', u'from', u'at', u'not', u'la', u'have', u'Clintons', u'presidential', u'this', u'about']\n"
     ]
    }
   ],
   "source": [
    "top_50_words = [i[0] for i in top_50]\n",
    "print top_50_words"
   ]
  },
  {
   "cell_type": "code",
   "execution_count": 469,
   "metadata": {
    "collapsed": false
   },
   "outputs": [],
   "source": [
    "start = [i[0] for i in text if len(i) != 0]"
   ]
  },
  {
   "cell_type": "code",
   "execution_count": 470,
   "metadata": {
    "collapsed": false
   },
   "outputs": [],
   "source": [
    "cnt_start = dict(collections.Counter(start).most_common(10))"
   ]
  },
  {
   "cell_type": "code",
   "execution_count": 471,
   "metadata": {
    "collapsed": true
   },
   "outputs": [],
   "source": [
    "second = [i[1] for i in text if len(i) > 1]"
   ]
  },
  {
   "cell_type": "code",
   "execution_count": 472,
   "metadata": {
    "collapsed": true
   },
   "outputs": [],
   "source": [
    "cnt_second = dict(collections.Counter(second).most_common(40))"
   ]
  },
  {
   "cell_type": "code",
   "execution_count": 473,
   "metadata": {
    "collapsed": true
   },
   "outputs": [],
   "source": [
    "third = [i[2] for i in text if len(i) > 2]\n",
    "cnt_third = dict(collections.Counter(third).most_common(40))"
   ]
  },
  {
   "cell_type": "code",
   "execution_count": 474,
   "metadata": {
    "collapsed": true
   },
   "outputs": [],
   "source": [
    "fourth = [i[3] for i in text if len(i) > 3]\n",
    "cnt_fourth = dict(collections.Counter(fourth).most_common(40))"
   ]
  },
  {
   "cell_type": "code",
   "execution_count": 475,
   "metadata": {
    "collapsed": false
   },
   "outputs": [],
   "source": [
    "fifth = [i[4] for i in text if len(i) > 4]\n",
    "cnt_fifth = dict(collections.Counter(fifth).most_common(40))"
   ]
  },
  {
   "cell_type": "code",
   "execution_count": 476,
   "metadata": {
    "collapsed": true
   },
   "outputs": [],
   "source": [
    "sixth = [i[5] for i in text if len(i) > 5]\n",
    "cnt_sixth = dict(collections.Counter(sixth).most_common(40))"
   ]
  },
  {
   "cell_type": "code",
   "execution_count": 650,
   "metadata": {
    "collapsed": false
   },
   "outputs": [],
   "source": [
    "preliminary = [i for i in text if len(i) > 5 and i[0] in cnt_start.keys() and i[1] in cnt_second.keys() and i[2] in \n",
    "              cnt_third.keys() and i[4] in cnt_fourth.keys() and i[5] in cnt_fifth.keys()]"
   ]
  },
  {
   "cell_type": "code",
   "execution_count": 651,
   "metadata": {
    "collapsed": true
   },
   "outputs": [],
   "source": [
    "all_words = collections.Counter(list(itertools.chain(*preliminary))).most_common(50)"
   ]
  },
  {
   "cell_type": "code",
   "execution_count": 652,
   "metadata": {
    "collapsed": false
   },
   "outputs": [],
   "source": [
    "# temp = []\n",
    "# for i in text:\n",
    "#     if set(i).intersection(set(top_50_words)) == set(i):\n",
    "#         temp.append(i)        "
   ]
  },
  {
   "cell_type": "code",
   "execution_count": 653,
   "metadata": {
    "collapsed": false
   },
   "outputs": [
    {
     "name": "stdout",
     "output_type": "stream",
     "text": [
      "1735\n"
     ]
    }
   ],
   "source": [
    "tweet_words = list(itertools.chain(*preliminary))\n",
    "print len(set(tweet_words))"
   ]
  },
  {
   "cell_type": "code",
   "execution_count": 654,
   "metadata": {
    "collapsed": false
   },
   "outputs": [],
   "source": [
    "# top 20 vocabulary\n",
    "color_profile = {}\n",
    "color = ['3182bd','6baed6','9ecae1','c6dbef','e6550d','fd8d3c','fdae6b','fdd0a2','31a354','74c476','a1d99b',\n",
    "        'c7e9c0','756bb1','9e9ac8','bcbddc','dadaeb','636363','969696','bdbdbd','d9d9d9']\n",
    "for i in set(all_words):\n",
    "    color_profile[i[0]] = random.choice(color)\n",
    "json.dump(color_profile,open('color_profile.json','wb')) "
   ]
  },
  {
   "cell_type": "code",
   "execution_count": 655,
   "metadata": {
    "collapsed": false
   },
   "outputs": [],
   "source": [
    "# preliminary_final = ['-'.join(i) for i in temp]\n",
    "# preliminary_final = ['-'.join(i[:min((len(i)-1),10)]) for i in preliminary]\n",
    "preliminary_final = []\n",
    "for i in preliminary:\n",
    "    element = '-'.join(i[:min(len(i)-1,10)])\n",
    "    if len(i) < 10:\n",
    "        element = element + str('-end')\n",
    "    preliminary_final.append(element)"
   ]
  },
  {
   "cell_type": "code",
   "execution_count": 656,
   "metadata": {
    "collapsed": false
   },
   "outputs": [
    {
     "data": {
      "text/plain": [
       "Counter({u'BREAKING-NEWS-Its-official-HillaryClinton-has-just-announced-she-is': 10248, u'BREAKING-Hillary-Clinton-says-shes-running-for-president-in-2016': 1513, u'BREAKING-NEWS-Hillary-Clinton-running-for-President-end': 889, u'Hillary-Clinton-is-running-for-end': 816, u'Hillary-Clinton-is-latest-in-a-long-line-of-women': 792, u'Hillary-Clinton-is-running-for-president-says-campaign-end': 559, u'Hillary-Clinton-says-Im-running-for-president-as-campaign-site': 405, u'HillaryClinton-has-officially-entered-the-2016-end': 321, u'Hillary-Clinton-Im-running-for-end': 308, u'Hillary-Clinton-is-running-for-president-end': 261, u'HillaryClinton-Im-running-for-president-Everyday-Americans-need-a-champion': 200, u'Im-running-for-president-Hillary-Clinton-says-in-campaign-announcement': 197, u'BREAKING-Hillary-Rodham-Clinton-will-run-for-the-US-presidency': 191, u'Hillary-Clinton-is-officially-running-for-president-Photo-end': 189, u'BREAKING-HillaryClinton-is-officially-running-for-president-in-end': 187, u'Hillary-Clinton-is-Obama-in-a-dress\\U0001f483\\U0001f3fc\\U0001f457WhyImNotVotingForHillary-WakeUpAmerica-tcot': 183, u'BREAKING-Hillary-Clinton-is-running-for-end': 152, u'BREAKING-NEWS-Hillary-Clinton-launches-campaign-for-the-White-House': 140, u'BREAKING-HillaryClinton-announces-she\\u2019s-running-for-president-end': 139, u'BREAKING-Hillary-Clinton-officially-announces-that-shes-running-for-president': 137, u'Hillary-Clinton-is-officially-running-for-end': 128, u'BREAKING-Hillary-Clinton-running-for-president-top-aide-tells': 128, u'Hillary-Clinton-is-running-for-president-in-2016-Watch-her': 125, u'Hillary-Clinton-is-focusing-on-the-middle-class\\u2014and-thats-a': 121, u'Hillary-Clinton-announced-she-is-running-for-president-in-2016watch': 119, u'Im-running-for-president-says-HillaryClinton-in-a-new-campaign': 118, u'Hillary-Clinton-says-shes-running-for-president-and-will-likely': 115, u'BREAKING-Hillary-Clinton-announces-her-2016-US-presidential-end': 113, u'Hillary-Clinton-is-running-for-president-so-obviously-people-are': 107, u'BREAKING-Hillary-Clinton-is-running-for-president-in-end': 105, u'Hillary-Clinton-announces-shes-running-for-president-I-totally-didnt': 101, u'BREAKING-Hillary-Clinton-officially-announces-2016-White-House-end': 95, u'Hillary-Clinton-has-been-running-for-president-for-5-minutes': 90, u'HillaryClinton-has-a-vision-for-a-better-future-Help-make': 89, u'HillaryClinton-the-campaign-announcement-video-is-incredible-bold-amp-awesome': 87, u'BREAKING-Im-running-for-president-Clinton-in-end': 81, u'Hillary-Clinton-officially-announces-her-2016-run-for-end': 77, u'HillaryClinton-is-running-for-president-campaign-chairman-John-Podesta-tells': 75, u'Hillary-Clinton-is-officially-running-for-president-Does-she-have': 73, u'Hillary-Clinton-will-not-be-the-next-president-of-the': 70, u'Hillary-Clinton-announces-shes-running-for-president-since-end': 63, u'BREAKING-NEWS-Hillary-Rodham-Clinton-enters-2016-race-for-president': 61, u'Hillary-Clinton-announced-shes-running-for-President-Meanwhile-Bill-Clinton': 59, u'Hillary-Clinton-announces-shes-running-for-president-Isnt-that-like': 58, u'Hillary-Clinton-just-announced-shes-running-for-president-2016-and': 58, u'Hillary-is-running-\\u2014-and-running-right-along-with-her': 51, u'Hillary-Clinton-has-just-announced-she-is-running-for-president': 50, u'Hillary-is-the-Champion-for-the-end': 46, u'Hillary-Clinton-says-she-will-run-in-the-US-presidential': 43, u'The-HillaryClinton-campaign-launch-video-is-selfeffacing-fun-and-uplifting': 42, u'Hillary-Clinton-will-be-running-for-office-Presidential-end': 42, u'If-Hillary-Clinton-really-is-running-for-president-SHE-GOT': 41, u'Hillary-Clinton-is-running-for-president-11-stories-about-her': 40, u'BREAKING-Hillary-Clinton-running-for-president-in-2016-senior-aide': 40, u'If-Hillary-Clinton-was-not-the-\\u201cwife-of\\u201d-somebody-important': 37, u'BREAKING-Hillary-Clinton-is-running-for-President-of-the-United': 37, u'If-Hillary-Clinton-becomes-president-I-will-be-on-the': 30, u'Hillary-Clinton-running-for-president-in-2016-aide-end': 30, u'BREAKING-Hillary-Clinton-formally-announces-2016-White-House-end': 29, u'Hillary-Clinton-announces-she-is-running-for-the-post-of': 29, u'Hillary-Clinton-Im-running-for-president-Vous-\\xeates-surs-que': 29, u'BREAKING-Hillary-Clinton-officially-announces-she-will-run-again-for': 28, u'Hillary-Clinton-is-running-for-president-I-wonder-what-would': 28, u'Hillary-running-for-president-is-the-most-surprising-thing-to': 27, u'BREAKING-HillaryClinton-has-officially-announced-her-bid-to-become-the': 26, u'BREAKING-Hillary-Clinton-announces-2016-run-WhiteHouse-HillarysBigAnnouncementnHillary2016-end': 26, u'Hillary-Clinton-announces-shes-running-for-president-the-same-day': 24, u'Hillary-Clinton-is-going-to-be-able-to-talk-more': 23, u'Hillary-Clinton-announces-she-is-running-for-end': 23, u'BREAKING-Hillary-Clinton-just-announced-her-2016-presidential-end': 22, u'Hillary-Clinton-is-running-for-president-and-thus-far-what': 21, u'Hillary-Clinton-Im-running-for-president-Vanguard-News-via': 20, u'BREAKING-Hillary-Rodham-Clinton-officially-enters-2016-White-House-race': 19, u'Hillary-Clinton-has-announced-shes-running-for-president-in': 19, u'Hillary-Clinton-says-shes-officially-in-Who-are-you-going': 18, u'Hillary-Clinton-says-she\\u2019s-running-for-president-in-end': 18, u'Hillary-is-running-for-president-and-Barry-Manilow-is-out': 18, u'Hillary-Clinton-is-officially-running-for-president-in-end': 16, u'If-Hillary-Clinton-wins-in-2016-it-will-be-the': 16, u'Hillary-Clintons-campaign-isnt-about-Hillary-Clinton-which-is-why': 16, u'Hillary-Clinton-will-run-for-president-in-next-years-election': 16, u'Hillary-is-a-criminal-and-running-for-president-nnAmerican-politics': 16, u'Im-HillaryClinton-and-Im-running-for-President-end': 16, u'Hillary-Clinton-running-again-for-end': 15, u'Hillary-Clinton-announces-shes-running-for-prez-the-same-day': 15, u'Hillary-has-the-charisma-of-a-frozen-sea-end': 15, u'Hillary-Clinton-is-running-for-president-I-dont-know-if': 14, u'Hillary-Clinton-is-going-to-be-surrounded-by-soapopera-coverage': 14, u'If-Hillary-Clinton-wins-the-2016-election-we-will-have': 13, u'Hillary-Clinton-says-shes-running-for-president-in-2016-wants': 13, u'HillaryClinton-is-officially-running-for-president-Watch-her-announcement-video': 13, u'If-Hillary-Clinton-becomes-president-I-will-move-to': 13, u'Hillary-Clinton-to-run-for-president-in-end': 13, u'Hillary-Clinton-is-going-on-a-listening-tour-while-Ted': 13, u'Hillary-Clinton-is-running-for-president-Time-to-end': 12, u'Hillary-Clinton-to-run-for-president-and-already-the-anticlinton': 12, u'BREAKING-Hillary-Clinton-set-to-run-again-for-president': 12, u'This-is-Hillarys-legacyremind-her-of-it-from-now-to': 11, u'If-Hillary-Clinton-wins-the-2016-election-then-all-hope': 11, u'Hillary-Clinton-running-for-president-in-2016-is-all-part': 11, u'If-you-think-Hillary-Clinton-running-for-president-is-a': 11, u'Hillary-Clinton-Im-running-for-president-UniteBlue-LibCrib-TopProg': 11, u'Hillary-Clinton-has-been-running-for-President-for-nearly-a': 11, u'Hillary-Clinton-announces-she-will-run-for-President-via': 10, u'Hillary-Clinton-is-announcin-shes-runnin-for-President-in-2016': 10, u'Im-running-for-President-Hillary-Clinton-launches-campaign-for-2016': 10, u'Hillary-Clinton-to-run-for-end': 10, u'Hillary-Clinton-is-officially-running-for-president-watch-jonsnowC4s-interview': 10, u'BREAKING-Hillary-Clinton-announces-that-she-has-joined-end': 10, u'Hillary-is-not-part-of-a-political-dynasty-and-other': 10, u'Hillary-Clinton-Im-running-for-president-Think-she-can-manage': 10, u'HillaryClinton-has-officially-announced-her-2016-presidential-end': 10, u'Hillary-Clinton-is-running-for-president-Here-are-8-things': 9, u'Hillary-Clinton-announces-she\\u2019s-running-for-President-but-she-isn\\u2019t': 9, u'Hillary-Clinton-is-now-officially-running-for-end': 9, u'BREAKING-Hillary-Clinton-is-running-for-President-in-US-Election': 9, u'Hillary-Clinton-announces-Presidential-campaign-on-Game-of-Thrones-season': 9, u'Hillary-Clinton-announces-she\\u2019s-running-for-US-presidentnnThis-and-more': 9, u'BREAKING-Hillary-Clinton-has-announced-that-she-will-be-running': 9, u'Hillary-Clinton-announces-says-shes-running-for-the-middle-class': 9, u'Hillary-Clinton-to-run-for-president-end': 9, u'Hillary-Clinton-announces-she-is-running-for-president-end': 8, u'The-official-Hillary-Clinton-2016-campaign-button-end': 8, u'Hillary-Clinton-a-van-and-a-stop-for-end': 8, u'If-you-think-that-Hillary-Clinton-would-make-a-good': 8, u'Hillary-is-running-for-president-in-2016-Best-of-luck': 8, u'BREAKING-Hillary-Clinton-is-running-for-US-president-a-top': 8, u'HillaryClinton-is-the-candidate-of-the-only-major-American-political': 8, u'Im-running-for-President-Hillary-Clinton-announces-in-her-first': 8, u'If-you-think-Hillary-Clinton-is-a-good-candidate-I': 8, u'BREAKING-Hillary-Clinton-Im-running-for-end': 8, u'Hillary-Hillary-Hillary-Hillary-Hillary-Hillary-Hillary-Hillary-Hillary-Hillary': 7, u'BREAKING-Hillary-Clinton-is-running-for-President-Meanwhile-the-fortress': 7, u'If-Hillary-Clinton-becomes-president-of-the-United-States-I': 7, u'Im-running-for-President-says-HillaryClinton-and-I-hope-youll': 7, u'HillaryClinton-has-officially-announced-shes-running-for-end': 7, u'Hillary-Clinton-has-declard-her-run-for-the-2016-Democratic': 7, u'If-Hillary-Clinton-becomes-president-in-2016-I-am-forfeiting': 7, u'Hillary-Clinton-has-officially-announced-shes-running-for-President': 7, u'Hillary-has-officially-announced-for-2016-RT-if-you-agree': 7, u'Hillary-Clinton-is-officially-running-for-president-in-2016-Im': 7, u'Hillary-Clinton-is-running-for-president-Here-are-11-stories': 7, u'Hillary-Clinton-has-officially-announced-her-candidacy-for-the-2016': 7, u'Hillary-Clinton-announces-she-is-running-for-president-in-2016': 7, u'Hillary-Clinton-is-in-the-running-to-become-the-first': 7, u'Hillary-Clinton-is-running-for-president-Watch-the-video-Share': 6, u'Hillary-Clinton-officially-running-for-president-Heres-her-views-on': 6, u'Hillary-Clinton-running-again-for-president-end': 6, u'Hillary-Clinton-is-running-for-president-Is-America-end': 6, u'BREAKING-Hillary-Clinton-says-shes-running-for-president-in': 6, u'BREAKING-Hillary-Clinton-formally-running-for-President-will-be-in': 6, u'Hillary-Clinton-just-announced-her-2016-presidential-end': 6, u'Hillary-Clinton-is-running-for-president-MAJ-end': 6, u'Hillary-Clinton-announces-she\\u2019s-running-for-end': 6, u'BREAKING-Hillary-Clinton-launches-her-2016-presidential-end': 6, u'Hillary-announces-and-wants-to-be-our-champion-Would-a': 6, u'Hillary-Clinton-announces-she\\u2019s-running-for-US-end': 6, u'Hillary-Clinton-announces-she-is-running-for-US-end': 6, u'Hillary-Clinton-announced-shes-running-for-President-While-Bill-Clinton': 6, u'Hillary-Clinton-is-officially-running-for-president-but-what-are': 6, u'If-Hillary-Clinton-isnt-the-president-I-will-give-everyone': 5, u'BREAKING-Hillary-Clinton-announces-her-2016-US-presidential-bid': 5, u'HillaryClinton-announced-for-Prez-on-the-net-MarcoRubio-used-the': 5, u'Hillary-Clinton-is-going-to-be-a-beast-of-a': 5, u'Hillary-Clinton-to-run-for-president-Hillary-Clinton-will-again': 5, u'Hillary-Clinton-announces-shes-running-for-end': 5, u'Hillary-Clinton-a-Van-and-a-Stop-for-end': 5, u'Hillary-Clinton-says-\\u2018I\\u2019m-running-for-president\\u2019-in-online-videonhttp': 5, u'Hillary-Clinton-announces-she-is-running-for-president-in': 5, u'If-Hillary-Clinton-wins-in-the-US-Indian-seculars-will': 5, u'Hillary-Clinton-is-running-for-president-So-unexpected-did-anyone': 5, u'Hillary-Clinton-is-officially-running-for-office-What-a-monumental': 5, u'Hillary-Clinton-is-running-for-president-Let\\u2019s-end': 5, u'If-Hillary-Clinton-runs-for-president-and-wins-I-will': 5, u'Hillary-Clinton-just-announced-shes-running-for-president-She-has': 5, u'Hillary-Clinton-is-officially-running-for-president-HillaryClinton-end': 5, u'Hillary-Clinton-is-21-to-be-the-next-PresidentnnBet': 5, u'Hillary-Clinton-is-running-for-president-via-nypostnhttp-She-should': 5, u'Hillary-Clinton-is-running-for-president-and-I-couldnt-be': 5, u'If-Hillary-Clinton-becomes-president-I-will-shoot-myself': 5, u'Hillary-Clinton-will-run-for-president-longtime-confidante-says-omg': 5, u'Hillary-Clinton-announces-she\\u2019s-running-for-US-president-in-YouTube': 5, u'If-Hillary-Clinton-wins-the-2016-elections-I-will-plunge': 5, u'Hillary-Clinton-has-officially-announced-her-presidential-end': 5, u'Hillary-Clinton-just-announced-shes-running-for-president-We-are': 5, u'Hillary-Clinton-officially-announces-campaign-to-become-first-woman-president': 5, u'Hillary-Clintons-campaign-logo-is-a-big-red-arrow-pointing': 4, u'Hillary-Clinton-has-started-her-campaign-to-become-the-first': 4, u'If-Hillary-Clinton-becomes-president-I-might-get-a-sex': 4, u'Hillary-Clinton-is-running-for-president-Watch-HillaryClinton\\u2019s-announcement-video': 4, u'If-Hillary-Clinton-becomes-president-I-will-officially-have-to': 4, u'This-is-the-reaction-to-Hillary-Clintons-presidential-run-that': 4, u'BREAKING-Hillary-Clinton-enters-the-2016-race-for-the-US': 4, u'HillaryClinton-is-a-LIAR-and-a-THIEF-That-is-all': 4, u'Hillary-Clinton-has-just-announced-her-candidacy-through-email-to': 4, u'Im-running-for-president-Hillary-Clinton-begins-2016-presidential-campaign': 4, u'This-is-the-official-video-of-Hillarys-presidential-campaign-because': 4, u'If-you-are-voting-for-Hillary-Clinton-just-because-she': 4, u'Hillary-Clinton-for-President-of-the-United-States-ALLCAPSLYRICS-for': 4, u'BREAKING-HillaryClinton-has-just-announced-she-is-running-for-president': 4, u'Hillary-Clinton-announces-she\\u2019s-running-for-president-in-a-twominute': 4, u'Hillary-Clinton-Im-running-for-president-by-ayeemacaraig-via': 4, u'Hillary-Clinton-has-formally-announced-she-is-running-for': 4, u'Hillary-Clinton-has-launched-her-2016-presidential-bid-Email-from': 4, u'If-Hillary-Clinton-becomes-president-I-promise-Im-moving-to': 4, u'Im-ready-for-Miss-Hillary-to-shit-\\U0001f44f\\U0001f3fc-on-\\U0001f44f\\U0001f3fc': 4, u'Hillary-Clinton-has-announced-that-shes-running-for-president-Follow': 4, u'Hillary-Clinton-will-run-for-president-in-2016-end': 4, u'Hillary-is-running-for-president-in-2016nI-like-her-as': 4, u'Hillary-Clinton-says-shes-running-for-end': 4, u'BREAKING-HillaryClinton-officially-enters-the-2016-presidential-end': 4, u'Hillary-Clinton-will-she-be-the-first-Female-President-of': 4, u'Hillary-Clinton-has-officially-announced-her-campaign-for-President-hereandnow': 4, u'Hillary-Clinton-Im-running-for-president-as-champion-of-everyday': 4, u'If-Hillary-Clinton-becomes-president-I-might-just-have-to': 4, u'Hillary-Clinton-is-running-for-president-and-she-has-a': 4, u'BREAKING-HillaryClinton-says-shes-running-for-president-in-2016-wants': 4, u'If-Hillary-Clinton-wins-is-the-correct-title-for-the': 4, u'Hillary-Clinton-is-running-for-president-and-Madonna-raped-Drakes': 3, u'HillaryClinton-RT-HillaryClinton-Im-running-for-President-and-I-hope': 3, u'Hillary-Clinton-is-officially-running-for-President-Hillary2016-DNC': 3, u'This-is-the-day-the-Hillary-has-madenProgressives-will-rejoice': 3, u'Hillary-Clinton-is-officially-running-for-President-Getting-Started': 3, u'Hillary-Clinton-Im-running-for-president-end': 3, u'BREAKING-Hillary-Clinton-will-be-running-for-end': 3, u'Hillary-Clinton-is-fit-to-run-this-end': 3, u'Hillary-Clinton-officially-launches-2016-end': 3, u'Hillary-Clinton-has-announced-shes-running-for-president-if-your': 3, u'HillaryClinton-Clinton-says-shes-running-for-president-in-2016-wants': 3, u'If-you-think-Hillary-Clinton-is-still-having-PMS-every': 3, u'Hillary-Clinton-for-president-in-2016-As-long-as-Bill': 3, u'Hillary-Clinton-running-for-the-2016-end': 3, u'Hillary-Clinton-I-am-running-for-end': 3, u'Hillary-Clinton-Im-running-for-president-\\u2013-live-end': 3, u'Hillary-Clinton-is-running-for-the-White-House-end': 3, u'Hillary-Clinton-is-running-for-president-what-a-time-to': 3, u'If-Hillary-Clinton-becomes-president-I-will-have-lost-all': 3, u'BREAKING-Hillary-Clinton-enters-the-2016-presidential-race-No-surprises': 3, u'If-Hillary-Clinton-becomes-the-president-of-this-country-Im': 3, u'Hillary-Clinton-has-announced-shes-running-for-president-Hopefully-shell': 3, u'If-Hillary-Clinton-became-president-I-would-legitimately-move-out': 3, u'If-Hillary-Clinton-is-not-the-next-president-I-will': 3, u'Hillary-Clinton-has-just-announced-she-running-for-US-President': 3, u'Hillary-Clinton-is-now-officially-a-2016-presidential-end': 3, u'Hillary-Clinton-will-not-be-the-next-president-of-The': 3, u'Hillary-Clinton-is-going-to-be-president-and-shes-going': 3, u'HillaryClinton-is-the-first-official-2016-candidate-to-represent-the': 3, u'BREAKING-HillaryClinton-says-she\\u2019s-running-for-president-in-2016-wants': 3, u'Im-ready-for-Hilary-Clinton-2016-end': 3, u'Im-proud-to-be-a-HillaryClinton-supporter-You-can-sign': 3, u'Im-proud-to-say-that-HillaryClinton-has-fought-my': 3, u'This-campaign-is-going-to-be-about-everyday-Americans-Texas': 3, u'Hillary-Clinton-Im-running-for-president-via-end': 3, u'Hillary-Clinton-is-running-for-president-and-the-Milwaukee-Bucks': 3, u'If-Hillary-Clinton-wins-her-campaign-I-will-definitely-consider': 3, u'Hillary-Clinton-is-officially-running-for-president-Lmfaooo-I-will': 3, u'Hillary-Clinton-to-run-for-president-in-2016-wants-to': 3, u'Hillary-Clinton-is-going-to-be-the-next-president-Women': 3, u'If-you-are-voting-for-Hillary-Clinton-because-shes-a': 3, u'Hillary-Clinton-is-running-for-president-nHave-we-seen-her': 3, u'The-Clintons-are-back-Hillary-Clinton-gets-the-SNL-treatment': 3, u'Hillary-Clinton-announces-shes-running-for-President-Listen-end': 3, u'Hillary-Clinton-is-officially-running-for-President-Lets-hope-shes': 3, u'Hillary-Clinton-has-officially-announced-her-2016-presidential-bid-Will': 3, u'BREAKING-Hillary-Clinton-announces-shes-running-for-president-in-2016': 3, u'Hillary-Clinton-announced-she-is-running-for-President-Will-you': 3, u'Hillary-Clinton-to-run-for-president-Details-ABCNewsqld-at-7': 2, u'If-Hillary-Clinton-becomes-president-I-will-be-moving-to': 2, u'If-Hillary-Clinton-became-president-I-would-honestly-move-to': 2, u'If-Hillary-Clinton-is-running-for-president-does-that-mean': 2, u'Hillary-Clinton-is-in-for-end': 2, u'Hillary-Clinton-announced-that-shes-running-for-President-and-Im': 2, u'Hillary-Clintons-campaign-minivan-has-the-greatest-end': 2, u'If-Hillary-Clinton-becomes-president-I-will-rent-a-bus': 2, u'Hillary-Clinton-is-running-for-president-and-Ohio-again-offers': 2, u'Hillary-Clinton-announced-running-for-2016-Heres-why-she-will': 2, u'Hillary-Clinton-is-officially-in-the-White-House-race': 2, u'Hillary-Clinton-is-more-of-a-celebrity-than-a-president': 2, u'Hillary-Clinton-is-running-for-president-In-other-breaking-news': 2, u'Hillary-Clinton-has-officially-announced-her-run-as-a-candidate': 2, u'Hillary-Clinton-will-run-for-president-in-the-2016-US': 2, u'If-Hillary-Clinton-wins-the-2016-election-I-will-move': 2, u'If-you-can-read-this-and-still-want-Hillary-for': 2, u'Hillary-ready-to-announce-her-run-Lets-remind-her-where': 2, u'BREAKING-HillaryClinton-will-seek-the-2016-Democratic-nomination-for-president': 2, u'Hillary-Clinton-to-run-for-president-Columbia-South-Carolina': 2, u'Hillary-Clinton-running-for-president-is-a-end': 2, u'Hillary-Clinton-is-back-and-has-a-message-for-you': 2, u'If-Hillary-Clinton-announces-that-she-is-running-for-President': 2, u'Hillary-Clinton-has-announced-her-run-for-the-White-House': 2, u'Im-running-for-President-Hillary-end': 2, u'If-Hillary-Clinton-becomes-president-I-hope-she-hires-Monica': 2, u'Hillary-Clinton-is-officially-running-for-office-I-am-gon': 2, u'Hillary-is-running-Well-not-running-More-like-riding-her': 2, u'Hillary-Clinton-announces-she-will-be-running-for-end': 2, u'If-you-think-voting-for-Hillary-is-a-good-idea': 2, u'Hillary-Clinton-just-announced-that-she-is-officially-running-for': 2, u'Hillary-Clinton-announces-presidential-campaign-the-experts-respond-via': 2, u'Hillary-is-not-a-not-a-good-woman-running-for': 2, u'If-you-are-talking-about-Hillary-running-for-Pres-but': 2, u'If-Hillary-Clinton-becomes-president-I-will-move-out-of': 2, u'I-will-be-voting-for-Hillary-end': 2, u'Hillary-Clinton-is-officially-running-for-President-end': 2, u'Hillary-Clinton-announces-shes-running-for-president-end': 2, u'Hillary-has-the-capacity-to-be-the-next-FDR-A': 2, u'Hillary-Clinton-is-running-for-president-of-her-own-email': 2, u'Hillary-Clinton-running-again-for-president-via-end': 2, u'Hillary-Clinton-is-running-for-president-lord-help-us': 2, u'BREAKING-HillaryClinton-Im-running-for-president-Americans-need-a-champion': 2, u'Hillary-Clinton-is-running-for-president-We-get-end': 2, u'Hillary-Clinton-Im-running-for-president-US-news-The-Guardian': 2, u'Hillary-Clintons-campaign-kickoff-will-be-in-end': 2, u'Im-running-for-President-Hillary-Clinton-enters-2016-race-IS': 2, u'If-Hillary-Clinton-becomes-the-president-does-that-mean-Bill': 2, u'If-Hillary-Clinton-becomes-president-she-has-to-sit-in': 2, u'If-you-are-voting-for-Hillary-because-she-is-a': 2, u'Hillary-Clintons-campaign-logo-is-the-best-one-made-by': 2, u'If-Hillary-Clinton-becomes-the-president-I-will-end': 2, u'Hillary-Clinton-is-running-for-president-Dear-lord-please-help': 2, u'If-Hillary-Clinton-wins-the-2016-election-Im-moving-to': 2, u'Hillary-Clinton-has-been-running-for-president-for-more-than': 2, u'Hillary-Clinton-running-for-president-and-Helen-Zille-is-giving': 2, u'Hillary-Clinton-announced-today-that-shes-running-for-President-in': 2, u'Hillary-Clinton-running-for-president-is-no-end': 2, u'Hillary-Clinton-to-run-for-president-in-2016-euronews-world': 2, u'BREAKING-Hillary-Rodham-Clinton-is-running-for-president-end': 2, u'Hillary-Clinton-announces-shes-running-for-president-amp-suddenly-everyones': 2, u'Hillary-Clinton-announces-she-will-run-for-US-end': 2, u'If-Hillary-Clinton-becomes-the-president-Im-looking-into-moving': 2, u'HillaryClinton-is-officially-running-for-president-Read-her-neverreleasedonlineuntilnow-essay': 2, u'Hillary-Clinton-in-her-campaign-announcement-or-Jeanine-Matthews-from': 2, u'Hillary-Clinton-is-running-for-president-in-end': 2, u'If-Hillary-Clinton-is-president-I-honestly-might-move-to': 2, u'If-Obama-can-forgive-Hillary-and-her-supporters-their-questionable': 2, u'The-campaign-can-matter-and-Hillary-Clinton-has-already-won': 2, u'Hillary-Clinton-has-formally-announced-her-2016-presidential-end': 2, u'Hillary-Clinton-has-entered-the-2016-US-presidential-race': 2, u'BREAKING-HillaryClinton-has-officially-announced-shes-running-for-end': 2, u'Hillary-Clinton-for-president-on-her-platform-senior-govt-officials': 2, u'Hillary-Clinton-for-President-Hillary-Clinton-truly-is-amazing-eminofficial': 2, u'The-Hillary-Clinton-2016-campaign-has-end': 2, u'Hillary-Clinton-is-launching-her-campaign-for-2016-in-2017': 2, u'If-Hillary-Clinton-becomes-president-I-will-seriously-contemplate-leaving': 2, u'HillaryClinton-is-running-for-president-and-all-is-well-in': 2, u'If-Hillary-Clinton-becomes-president-I-am-moving-to': 2, u'Im-ready-for-Hillary-HillaryClinton-has-the-experience-to-be': 2, u'Hillary-Clinton-has-finally-announced-her-2016-presidential-end': 2, u'Hillary-Clinton-is-running-for-president-Oh-God-no\\U0001f645\\U0001f3fc\\U0001f645\\U0001f3fc\\U0001f645\\U0001f3fc-never': 2, u'Hillary-Clinton-announces-bid-for-2016-More-popular-George-Clinton': 2, u'I-will-not-vote-for-HillaryClinton-and-hopefully-it-makes': 2, u'Hillary-Clinton-is-running-for-president-Is-politics-in-future': 2, u'Hillary-Clinton-announces-she-will-run-for-US-Presidency': 2, u'Hillary-Clinton-is-running-for-president-What-does-that-mean': 2, u'Hillary-Clinton-has-just-announced-her-Presidential-Campaign-We-need': 2, u'Hillary-Clinton-has-officially-announced-her-2016-presidential-end': 2, u'Hillary-Clinton-is-running-for-president-Im-praying-we-dont': 1, u'If-HillaryClinton-is-elected-president-I-am-moving-to-Russiaas': 1, u'Hillary-Clinton-has-eventually-announced-shes-running-for-the-White': 1, u'Hillary-Clinton-is-running-for-president-This-is-glorious-news': 1, u'Hillary-Clinton-announced-shes-running-for-president-God-help-us': 1, u'Hillary-Clinton-is-running-for-president-again-Im-so': 1, u'Hillary-Clinton-to-run-for-the-end': 1, u'HillaryClinton-has-officially-announced-her-run-for-end': 1, u'Hillary-Clinton-is-officially-running-for-president-joshalicious98-is-she': 1, u'HillaryClinton-has-officially-entered-the-2016-Presidential-race-via-politico': 1, u'Hillary-Clinton-is-running-for-president-Nice-Nice-end': 1, u'Hillary-Clinton-officially-announces-campaign-to-become-first-woman-Hot': 1, u'Hillary-Clinton-announced-she-will-run-for-President-nnOther-obvious': 1, u'Hillary-is-not-qualified-to-be-President-says-the-party': 1, u'Hillary-Clinton-running-for-2016-president-is-a-total-joke': 1, u'Hillary-Clinton-running-for-president-has-to-be-a-joke': 1, u'Hillary-Clinton-announced-shes-running-for-President-in-2016-Now': 1, u'Hillary-Clinton-has-officially-announced-shes-running-for-president-Alright': 1, u'Hillary-Clinton-has-officially-announced-she-is-running-for-president': 1, u'Hillary-has-the-mindset-of-a-leader-Hillary-Clinton-Announces': 1, u'Hillary-Clinton-officially-announced-running-for-president-Watch-end': 1, u'This-is-Hillary-Clintons-official-announcement-video-from-her-websitennHeres': 1, u'Hillary-Clinton-is-running-for-president-oh-end': 1, u'Hillary-Clinton-to-run-for-president-in-2016-via': 1, u'Hillary-Clinton-running-for-president-in-2016-as-a-champion': 1, u'Hillary-Clinton-announces-shes-running-for-president-and-her-age': 1, u'Hillary-Clinton-just-announced-her-2016-presidential-campaign-Business': 1, u'Hillary-Clinton-has-announced-that-her-campaign-logo-will-be': 1, u'If-Hillary-Clinton-becomes-president-I-swear-Im-moving-to': 1, u'Hillary-Clinton-is-going-to-Hillary-Winton-this-presidential-election': 1, u'Hillary-Clinton-officially-announces-her-end': 1, u'Hillary-Clinton-announces-she-is-running-for-US-President': 1, u'The-Hillary-Clinton-Chipotle-video-is-today\\u2019s-Zapruder-film-and': 1, u'Hillary-Clinton-to-run-for-president-via-end': 1, u'Hillary-Clinton-announces-shes-running-for-president-Hillary-Rodham-Clinton': 1, u'Hillary-Clinton-is-running-for-president-Whos-her-VP-gon': 1, u'Hillary-Clinton-just-announced-her-2016-presidential-campaign-trending-Tech': 1, u'Hillary-Clinton-Im-running-for-president-\\u2013-as-it-happened': 1, u'HillaryClinton-running-for-president-is-a-joke-I-dont-want': 1, u'BREAKING-Hillary-Rodham-Clinton-to-run-for-US-Presidentnmedia': 1, u'BREAKING-HillaryClinton-announces-shes-running-for-President-via-video-on': 1, u'Hillary-Clinton-is-aiming-to-be-the-first-female': 1, u'Hillary-Clinton-announces-she-is-running-for-the-Man-City': 1, u'Hillary-Clinton-has-officially-announced-her-intention-to-run-for': 1, u'Hillary-Clinton-announces-shes-running-for-presidencyHear-what-these-two': 1, u'Clinton-has-officially-announced-her-campaign-and-for-PennforHillary-it': 1, u'Hillary-Clinton-in-tweet-says-she-is-headed-to': 1, u'Hillary-Clinton-is-running-for-president-hoooo-ma-gawdddd': 1, u'Hillary-Clinton-officially-launched-her-2016-presidential-campaign-end': 1, u'Hillary-Clinton-running-for-president-is-a-TERRIBLE-FUCKING': 1, u'Hillary-Clinton-just-announced-that-she-will-be-running-for': 1, u'If-HillaryClinton-is-Qualified-to-be-POTUS-then-there-should': 1, u'Hillary-Clinton-is-running-for-the-highestposition-of-power-in': 1, u'Hillary-Clinton-will-never-be-end': 1, u'Hillary-Clintons-running-for-president-I-did-NOT-see-that': 1, u'Hillary-Clinton-will-be-president-end': 1, u'BREAKING-HillaryClinton-says-she-will-run-for-President-for-a': 1, u'Hillary-Clinton-is-running-for-president-and-people-will-probably': 1, u'Hillary-Clinton-will-usher-in-a-new-era-of-sexual': 1, u'Hillary-Clinton-running-for-president-is-probably-the-worst-thing': 1, u'If-Hillary-Clinton-becomes-president-of-the-United-States-we': 1, u'BREAKING-Hillary-Clinton-just-announced-her-2016-presidential-campaign-USA': 1, u'Im-running-for-President-Hillary-Clinton-launches-campaign-for': 1, u'This-is-not-Scandal-Hillary-Clinton-cant-handle-being-president': 1, u'HillaryClinton-is-running-Heres-the-announcement-rtv6-politics-presidency2016': 1, u'Hillary-Clinton-is-running-for-president-Ive-been-waiting-since': 1, u'Hillary-Clinton-is-officially-running-for-president-this-is-the': 1, u'Hillary-Clinton-just-announced-her-2016-presidential-campaignnnWHY-IS-SHE': 1, u'Hillary-Clinton-just-announced-to-be-presidentimagine-if-Remi-Tinubu': 1, u'Hillary-is-running-for-president-2016-Lets-end': 1, u'Hillary-Clinton-is-running-for-president-in-2016-end': 1, u'Hillary-Clinton-is-running-for-president-again-end': 1, u'I-will-be-voting-for-Clinton-in-2016-because-not': 1, u'Hillary-Clinton-is-now-running-and-even-though-shed-be': 1, u'BREAKING-Hillary-Clinton-officially-announces-2016-White-House-bid': 1, u'Hillary-Clinton-is-running-for-president-If-Germany-can-have': 1, u'If-you-think-Hillary-is-a-liberal-youre-either-ignorant': 1, u'If-Hillary-Clinton-wont-be-the-first-female-US-president': 1, u'Hillary-Clinton-has-been-running-for-President-every-day-for': 1, u'HillaryClinton-running-for-president-of-the-US-See-it-here': 1, u'Hillary-Clinton-is-running-for-president-Whos-surprised-No': 1, u'Hillary-Clinton-to-run-for-president-business-end': 1, u'Hillary-Clinton-officially-running-for-president-Jumps-from-8th-floor': 1, u'Hillary-in-a-van-on-her-way-to-Iowa-Wonder': 1, u'Hillary-Clinton-is-running-for-president-Wow-no-one-saw': 1, u'Hillary-Clinton-has-launched-her-2016-presidential-end': 1, u'Hillary-Clinton-will-win-the-2016-elections-end': 1, u'HillaryClinton-is-running-in-2016-and-Bill-Clinton-asked-Obama': 1, u'BREAKING-NEWS-I-will-officially-be-voting-for-HillaryClinton-in': 1, u'Hillary-Clinton-is-running-for-president-Im-so-end': 1, u'BREAKING-NEWS-Hillary-Clinton-running-for-President-of-the-United': 1, u'Hillary-Clinton-has-joined-the-2016-race-Zzzzzzzz-A-video': 1, u'HillaryClinton-running-for-president-in-2016-another-nightmare-comes-true': 1, u'Hillary-Clinton-just-announced-that-shes-running-for-President-Wow': 1, u'If-Hillary-Clinton-becomes-president-in-2016-then-would-that': 1, u'Hillary-Clinton-will-run-on-a-fresh-modern-platform-that': 1, u'Hillary-Clinton-has-been-running-for-POTUS-since-her-husband': 1, u'Hillary-Clinton-for-president-in-2016-How-about-end': 1, u'Hillary-Clinton-is-running-for-president-gt-Getting-Started-via': 1, u'Hillary-Clinton-just-announced-her-2016-presidential-campaign-end': 1, u'Hillary-Clinton-is-running-for-president-Will-you-vote-for': 1, u'If-Hillary-Clinton-wins-the-2016-Presidential-Election-Im-moving': 1, u'Hillary-Clinton-is-running-for-president-The-marketing-domain-name': 1, u'If-Hillary-Clinton-becomes-president-I-literally-want-to-move': 1, u'If-Hillary-is-elected-president-in-2016-Im-moving-to': 1, u'Hillary-Clinton-is-running-for-president-nnIN-OTHER-NEWS-Doomsday': 1, u'Hillary-Clinton-is-using-a-van-on-her-campaign-trail': 1, u'Hillary-is-running-for-president-and-The-New-York-Times': 1, u'Hillary-Clinton-is-likely-to-be-the-first-cabinet-secretary': 1, u'HillaryClinton-has-to-run-for-president-while-Chuck-Norris-slowly': 1, u'Hillary-Clinton-announces-presidential-campaign-the-experts-respond-So-it': 1, u'If-Hillary-is-asked-about-her-support-for-abortion-her': 1, u'Hillary-Clinton-is-only-running-for-president-because-she-just': 1, u'I-will-not-vote-for-Hillary-Doesnt-matter-2-me': 1, u'Hillary-Clinton-is-officially-running-for-president-We-want-your': 1, u'Hillary-Clintons-just-announced-shes-running-for-president-but-does': 1, u'Hillary-Clinton-is-running-for-president-she-said-she-wants': 1, u'Hillary-Clinton-is-candidate-in-the-American-presidential-election-of': 1, u'Hillary-Clinton-running-for-president-is-the-biggest-joke-Ive': 1, u'Hillary-Clinton-Im-running-for-president-SO-EXCITED-ReadyForHilllary': 1, u'Hillary-Clinton-announced-shes-running-for-president-lets-read-the': 1, u'Im-running-for-president-Hillary-end': 1, u'Hillary-Clinton-is-officially-running-for-Pres-In-2016': 1, u'Hillary-Clinton-has-typos-in-her-announcement-to-run-Might': 1, u'Hillary-Clinton-is-running-to-be-the-next-President-that': 1, u'Hillary-Clinton-is-running-for-president-my-dad-would-be': 1, u'Hillary-Clinton-is-running-and-she-is-about-to-make': 1, u'Hillary-Clinton-is-officially-running-for-president-end': 1, u'Hillary-Clinton-says-she\\u2019s-running-for-president-in-2016-wants': 1, u'Hillary-Clinton-to-announce-2016-campaign-on-Sunday-UniteBIue-libcrib': 1, u'I-will-be-voting-for-Hillary-Clinton-in-end': 1, u'BREAKING-NEWS-HillaryClinton-just-announced-she-is-running-for-President': 1, u'Hillary-Clinton-running-for-president-is-just-plain-dumb-and': 1, u'Hillary-Clinton-is-running-for-president-every-female-in-America': 1, u'Hillary-Clinton-is-officially-running-for-the-2016-end': 1, u'Hillary-Clinton-officially-joined-the-2016-presidential-end': 1, u'Hillary-Clinton-has-just-announced-her-candidacy-for-2016-with': 1, u'HillaryClinton-Hillary-you-will-be-the-best-president-end': 1, u'Hillary-Clinton-is-running-for-president-in-2016nn\\U0001f633\\U0001f633\\U0001f633\\U0001f633nnGod-help': 1, u'Hillary-Clinton-I-am-running-Hillary-Clinton-ends-months-of': 1, u'Hillary-Clinton-will-be-running-for-President-First-Female\\U0001f64c\\U0001f3fe-if': 1, u'BREAKING-Hillary-Clinton-is-officially-running-in-2016-to-become': 1, u'Hillary-Clinton-is-running-for-president-nobueno-end': 1, u'Hillary-Clinton-for-President-in-2016-Now-millions-of-Republicans': 1, u'BREAKING-NEWS-Hillary-Clinton-is-running-for-end': 1, u'Hillary-Clinton-is-officially-running-for-president-Will-her-email': 1, u'If-Hillary-Clinton-become-president-of-the-United-States-I': 1, u'HillaryClinton-running-for-president-is-the-greatest-thing-to-happen': 1, u'Hillary-Clinton-is-running-for-president-Excellent-Good-for-you': 1, u'Hillary-Clinton-is-in-a-van-on-a-road-trip': 1, u'Hillary-Clinton-announces-she-is-running-for-president-HillaryClinton': 1, u'HillaryClinton-is-a-bridge-to-the-future-for-working-families': 1, u'I-need-a-Hillary-Clinton-2016-t-shirt-bumper-sticker': 1, u'Hillary-Clinton-just-announced-her-running-mate-end': 1, u'BREAKING-Hillary-Clinton-is-officially-running-for-president-nnShare-how': 1, u'BREAKING-NEWS-Hillary-Clinton-announced-that-she-will-be-running': 1, u'Hillary-Clinton-officially-announced-her-2016-presidential-run-How-do': 1, u'HillaryClinton-has-announced-shes-running-for-USPresident-NiallStanage-rates-her': 1, u'If-Hillary-Clinton-becomes-president-I-may-have-to-move': 1, u'Hillary-Clinton-running-for-president-and-Madonna-performing-at-coachela': 1, u'The-Clinton-campaign-confirmed-that-the-former-secretary-of-state': 1, u'This-is-the-real-Hillary-Clinton-Hillary2016-end': 1, u'BREAKING-HillaryClinton-announces-she\\u2019s-running-for-president-again-end': 1, u'If-Hillary-Clinton-wins-the-2016-election-im-gon-na': 1, u'Hillary-Clinton-is-running-for-president-Lololololol-Our-political-world': 1, u'Hillary-Clinton-running-for-president-is-the-biggest-joke-to': 1, u'If-you-are-referring-to-Hillary-cathleendecker-I-think-youre': 1, u'Hillary-will-be-living-in-a-van-down-by-the': 1, u'Hillary-Clinton-is-back-running-for-Presidency-and-surprise-for': 1, u'If-Hillary-Clinton-becomes-president-I-promise-you-Ill-leave': 1, u'I-will-be-voting-for-Hillarys-pant-suited-ass-next': 1, u'Hillary-Clinton-to-announce-her-2016-end': 1, u'Hillary-Clinton-is-running-for-president-nYOU-BETTA-WERK': 1, u'Hillary-Clinton-is-running-for-president-and-in-other-news': 1, u'Hillary-Clinton-is-really-running-for-president-Who-else-is': 1, u'Hillary-Clinton-is-going-to-be-the-new-president-I': 1, u'Hillary-Clinton-is-running-for-president-Who-saw-that-coming': 1, u'Im-ready-for-Australia-to-be-Hillarys-bitch-ReadyForHillary': 1, u'BREAKING-HillaryClinton-officially-announces-2016-run-for-President-Check-out': 1, u'Hillary-Clinton-is-running-for-president-again-Some-people-never': 1, u'BREAKING-HillaryClinton-officially-enters-the-2016-race-for-president-per': 1, u'Hillary-is-a-lunatic-and-a-liar-That-will-be': 1, u'Hillary-Clinton-announces-shes-running-for-pres-and-Im-all': 1, u'Hillary-Clinton-officially-launches-campaign-for-president-whitehouse-end': 1, u'HillaryClinton-will-be-running-for-president-no-matter-if-she': 1, u'Hillary-Clinton-is-going-to-be-our-next-end': 1, u'Hillary-Clinton-is-officially-running-for-president-Hides-under-Ronald': 1, u'HillaryClinton-has-just-announced-her-campaign-to-run-for-US': 1, u'Im-running-for-President-Hillary-Clinton-launches-campaign-logo-for': 1, u'HillaryClinton-is-officially-on-the-campaign-trailto-the-surprise-of': 1, u'Hillary-has-announced-but-is-she-qualified-to-lead-with': 1, u'Hillary-Clinton-is-running-for-president-Rolls-end': 1, u'Hillary-Clinton-has-announced-officially-she-is-running-for-president': 1, u'If-Hillary-Clintons-mission-is-to-prove-she-should-never': 1, u'If-Hillary-Clinton-becomes-president-I-am-leaving-this': 1, u'If-Hillary-Clinton-becomes-the-president-Im-leaving-the': 1, u'Hillary-is-the-vanguard-of-the-proletariat-no-wonder-she': 1, u'Hillary-Clinton-announced-her-2016-campaign-for-the-White-House': 1, u'Hillary-Clinton-officially-announced-shes-running-for-president-for-2016': 1, u'Hillary-Clinton-to-run-for-the-White-end': 1, u'Hillary-Clinton-is-running-for-president-this-is-the-worst': 1, u'Hillary-Clinton-is-just-not-that-ready-for-populism-nor': 1, u'Hillary-Clinton-is-running-for-president-amp-I-couldnt-be': 1, u'Hillary-Clinton-announces-she-is-running-for-president-I-feel': 1, u'Hillary-Clinton-is-running-for-president-and-Franz-Ferdinand-is': 1, u'HillaryClinton-is-in-What-will-she-be-for-100-Christian': 1, u'Hillary-Clinton-is-going-to-be-the-next-POTUSthis-is': 1, u'Hillary-Clinton-running-for-president-is-such-a-huge-surprise': 1, u'Hillary-Clinton-is-running-for-president-Kinda-wan-na-not': 1, u'Hillary-Clinton-announced-shes-running-for-2016-presidency-end': 1, u'HillaryClinton-is-running-for-president-and-Ohio-again-offers-challenges': 1, u'Hillary-is-not-perfect-and-she-has-a-lot-of': 1, u'Hillary-Clinton-is-running-for-the-White-House-again-via': 1, u'HillaryClinton-is-a-liar-and-a-conspirator-to-suppress-Benghazi': 1, u'Hillary-will-be-running-in-the-next-presidential-election-and': 1, u'If-you-think-Hilary-Clinton-is-going-to-make-things': 1, u'Hillary-Clinton-running-for-president-is-a-great-move-for': 1, u'Hillary-Clinton-just-announced-that-she-is-running-for-PresidentHillary': 1, u'If-Hillary-Clinton-becomes-president-she-will-have-Bill-whacked': 1, u'HillaryClinton-has-just-announced-her-run-for-President-herewego-ReadyForHillary': 1, u'Im-running-for-President-Hillary-Clinton-enters-2016-race-via': 1, u'Hillary-Clinton-officially-announces-her-run-for-POTUS-in-2016': 1, u'Hillary-Clinton-running-for-president-in-2016-confirmed-on': 1, u'BREAKING-HillaryClinton-announces-bid-for-2016-presidential-end': 1, u'If-Hillary-Clinton-becomes-president-in-2016-Im-moving-to': 1, u'If-Hillary-Clinton-is-running-for-president-i-will-probably': 1, u'Hillary-Clinton-has-officially-announced-her-bid-to-run-for': 1, u'Hillary-Clinton-running-for-president-is-a-terrible-idea': 1, u'Hillary-Clinton-announces-she-will-be-spending-millions-of-dollars': 1, u'Hillary-Clinton-a-paragon-of-a-centerright-political-impasse-announces': 1, u'Im-running-for-president-Hillary-Clinton-announces-2016-presidential-campaign': 1, u'Hillary-Clinton-is-going-to-be-a-horrible-end': 1, u'HillaryClinton-has-officially-entered-the-2016-race-presidency2016-end': 1, u'Im-running-for-President-Hillary-Clinton-end': 1, u'Hillary-Clinton-will-be-running-for-end': 1, u'Hillary-Clinton-is-running-for-president-If-it-was-a': 1, u'If-Hillary-Clinton-becomes-president-I-wonder-if-she-will': 1, u'Hillary-Clinton-HillaryClinton-will-be-the-first-woman-to-assume': 1, u'Hillary-Clinton-has-formally-announced-her-second-run-for-President': 1, u'If-Hillary-Clinton-becomes-president-I-think-Im-lookin-to': 1, u'Im-running-for-president-Hillary-Clinton-end': 1, u'Hillary-Clinton-announces-shes-running-for-President-Watch-her-video': 1, u'Hillary-Clinton-announced-she-will-run-4-president-in-2016': 1, u'Hillary-Clinton-just-announced-that-she-is-running-for-president': 1, u'Im-running-for-president-says-HillaryClinton-nhttps-end': 1, u'Hillary-Clinton-is-running-for-president-What-a-great-day': 1, u'Hillary-Clinton-running-for-president-of-the-USA-gtgtgtgtgtgtgtgt-determination': 1, u'Hillary-Clinton-is-running-for-president-She-has-my-vote': 1, u'If-Hillary-Clinton-becomes-president-I-might-just-kms': 1, u'Hillary-Clinton-is-running-for-president-this-is-the-only': 1, u'If-Hillary-Clinton-becomes-the-president-I-will-move-to': 1, u'Hillary-Clinton-announced-shes-running-for-president-\\U0001f610-end': 1, u'If-Hillary-Clinton-became-president-I-feel-like-there-would': 1, u'Hillary-Clinton-is-running-for-president-2016-and-I-can': 1, u'Hillary-Clinton-has-announced-that-she-is-running-for-President': 1, u'Hillary-Clinton-is-running-for-president-Mike-Thompsons-cartoon': 1, u'HillaryClinton-is-officially-running-for-president-to-do-what-shes': 1, u'Hillary-Clinton-is-running-for-president-This-is-interesting-news': 1, u'HillaryClinton-has-announced-shes-running-for-President-Watch-her-announcement': 1, u'Hillary-Clinton-is-running-for-president-Omfg-end': 1, u'Hillary-Clinton-will-probably-be-the-next-end': 1})"
      ]
     },
     "execution_count": 656,
     "metadata": {},
     "output_type": "execute_result"
    }
   ],
   "source": [
    "collections.Counter(preliminary_final)"
   ]
  },
  {
   "cell_type": "code",
   "execution_count": 657,
   "metadata": {
    "collapsed": false
   },
   "outputs": [],
   "source": [
    "with open('tweet_text.csv','wb') as f:\n",
    "    for key,value in collections.Counter(preliminary_final).iteritems():\n",
    "        if value > 10:\n",
    "            f.write('%s,%d\\n' % (key.encode('ascii', 'ignore'),value))"
   ]
  },
  {
   "cell_type": "code",
   "execution_count": null,
   "metadata": {
    "collapsed": true
   },
   "outputs": [],
   "source": []
  }
 ],
 "metadata": {
  "kernelspec": {
   "display_name": "Python 2",
   "language": "python",
   "name": "python2"
  },
  "language_info": {
   "codemirror_mode": {
    "name": "ipython",
    "version": 2
   },
   "file_extension": ".py",
   "mimetype": "text/x-python",
   "name": "python",
   "nbconvert_exporter": "python",
   "pygments_lexer": "ipython2",
   "version": "2.7.10"
  }
 },
 "nbformat": 4,
 "nbformat_minor": 0
}
