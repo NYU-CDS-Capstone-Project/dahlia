{
 "cells": [
  {
   "cell_type": "code",
   "execution_count": 2,
   "metadata": {
    "collapsed": false
   },
   "outputs": [],
   "source": [
    "import json\n",
    "import sys\n",
    "import string\n",
    "import nltk\n",
    "import goose\n",
    "from pprint import pprint\n",
    "import collections\n",
    "import matplotlib.pyplot as plt\n",
    "import numpy as np\n",
    "%matplotlib inline"
   ]
  },
  {
   "cell_type": "code",
   "execution_count": 3,
   "metadata": {
    "collapsed": false
   },
   "outputs": [
    {
     "name": "stdout",
     "output_type": "stream",
     "text": [
      "32089\n"
     ]
    }
   ],
   "source": [
    "# Total number of data entry in one file\n",
    "with open('2015_04_12_17_15_19.json') as file: \n",
    "    for i, l in enumerate(file):\n",
    "        pass\n",
    "    print i+1\n",
    "    file.close()"
   ]
  },
  {
   "cell_type": "code",
   "execution_count": 25,
   "metadata": {
    "collapsed": false,
    "scrolled": false
   },
   "outputs": [],
   "source": [
    "# Initialize a list of mentioned in tweets\n",
    "mentions = []\n",
    "count = []\n",
    "\n",
    "tags = []\n",
    "count_tag = []\n",
    "\n",
    "locations = []\n",
    "count_location = []\n",
    "\n",
    "users = []\n",
    "count_user = []\n",
    "\n",
    "fav_tweet = []\n",
    "count_fav = []\n",
    "\n",
    "with open('2015_04_12_17_15_19.json') as file:\n",
    "    for i, line in enumerate(file):\n",
    "    # print the structure of the data\n",
    "        l = json.loads(line)\n",
    "        # print json.dumps(l, indent = 4, sort_keys = True)\n",
    "        try:\n",
    "            # The person get mentioned\n",
    "            mention = l['entities']['user_mentions'][0]['screen_name']\n",
    "            # The hashtag in the tweet\n",
    "            hashtag = l['entities']['hashtags'][0]['text']\n",
    "            # The location of the user who tweeted\n",
    "            loca = l['user']['location']\n",
    "            # The name of the user\n",
    "            person = l['user']['screen_name']\n",
    "            # The user's description\n",
    "            description = l['user']['description']\n",
    "            # The most re-tweeted tweet by the majority\n",
    "            tweet = l['retweeted_status']['text']\n",
    "        except:\n",
    "            mention = ''\n",
    "            hashtag = ''\n",
    "            loca = ''\n",
    "            person = ''\n",
    "            description = ''\n",
    "            tweet = ''\n",
    "        if mention != '':\n",
    "            mentions.append(mention)\n",
    "        if hashtag != '':\n",
    "            tags.append(hashtag)\n",
    "        if loca != '':\n",
    "            locations.append(loca)\n",
    "        if person != '':\n",
    "            users.append(person)\n",
    "        if tweet != '':\n",
    "            fav_tweet.append(tweet)\n",
    "    \n",
    "    # Counter of the most mentioned user\n",
    "    count = collections.Counter(mentions).most_common(10)\n",
    "    # Count of the most common hashtag\n",
    "    count_tag = collections.Counter(tags).most_common(15)\n",
    "    count_location = collections.Counter(locations).most_common(10)\n",
    "    count_user = collections.Counter(users).most_common(10)\n",
    "    count_fav = collections.Counter(fav_tweet).most_common(10)"
   ]
  },
  {
   "cell_type": "code",
   "execution_count": 26,
   "metadata": {
    "collapsed": false,
    "scrolled": true
   },
   "outputs": [
    {
     "data": {
      "text/plain": [
       "[(u'akdahling', 194),\n",
       " (u'smrtgrls', 185),\n",
       " (u'homeschoolc8824', 171),\n",
       " (u'RandPaul', 167),\n",
       " (u'TMGijane', 160),\n",
       " (u'pari_passu', 138),\n",
       " (u'brownjenjen', 104),\n",
       " (u'gerfingerpoken', 88),\n",
       " (u'20committee', 82),\n",
       " (u'mattyglesias', 80)]"
      ]
     },
     "execution_count": 26,
     "metadata": {},
     "output_type": "execute_result"
    }
   ],
   "source": [
    "# The count of the most mentioned user\n",
    "count"
   ]
  },
  {
   "cell_type": "code",
   "execution_count": 27,
   "metadata": {
    "collapsed": false
   },
   "outputs": [
    {
     "data": {
      "text/plain": [
       "[(u'WhyImNotVotingForHillary', 1440),\n",
       " (u'HillarysBigAnnouncement', 667),\n",
       " (u'HillaryClinton', 465),\n",
       " (u'Hillary2016', 280),\n",
       " (u'Hillary', 270),\n",
       " (u'ReadyForHillary', 237),\n",
       " (u'BitchesGetStuffDone', 194),\n",
       " (u'libertynothillary', 170),\n",
       " (u'StopHillary', 158),\n",
       " (u'tcot', 153),\n",
       " (u'Benghazi', 97),\n",
       " (u'WakeUpAmerica', 95),\n",
       " (u'WinterIsComing', 80),\n",
       " (u'Disclosure', 75),\n",
       " (u'Clinton', 53)]"
      ]
     },
     "execution_count": 27,
     "metadata": {},
     "output_type": "execute_result"
    }
   ],
   "source": [
    "# The count of the most common hashtag\n",
    "count_tag"
   ]
  },
  {
   "cell_type": "code",
   "execution_count": 28,
   "metadata": {
    "collapsed": false
   },
   "outputs": [
    {
     "data": {
      "text/plain": [
       "[(u'USA', 111),\n",
       " (u'WATCH THIS:', 75),\n",
       " (u'Texas', 48),\n",
       " (u'Washington, DC', 44),\n",
       " (u'New York', 43),\n",
       " (u'Colorado', 28),\n",
       " (u'New Jersey', 28),\n",
       " (u'California', 27),\n",
       " (u'Florida', 26),\n",
       " (u\"Muslim Obama's AmeriKastan\", 25)]"
      ]
     },
     "execution_count": 28,
     "metadata": {},
     "output_type": "execute_result"
    }
   ],
   "source": [
    "# The locations where the most tweets took place\n",
    "count_location"
   ]
  },
  {
   "cell_type": "code",
   "execution_count": 29,
   "metadata": {
    "collapsed": false
   },
   "outputs": [
    {
     "data": {
      "text/plain": [
       "[(u'Lee4DISCLOSURE', 75),\n",
       " (u'PatVPeters', 25),\n",
       " (u'jennycreamale', 24),\n",
       " (u'4thavefreespiri', 24),\n",
       " (u'ChristiChat', 24),\n",
       " (u'UTHornsRawk', 23),\n",
       " (u'idesignwis', 22),\n",
       " (u'bluedillygal', 21),\n",
       " (u'Nikcela002', 19),\n",
       " (u'ConservativeGM', 18)]"
      ]
     },
     "execution_count": 29,
     "metadata": {},
     "output_type": "execute_result"
    }
   ],
   "source": [
    "# The most active users\n",
    "count_user"
   ]
  },
  {
   "cell_type": "code",
   "execution_count": 30,
   "metadata": {
    "collapsed": false
   },
   "outputs": [
    {
     "data": {
      "text/plain": [
       "[(u'Things that never get old. #BitchesGetStuffDone #ReadyForHillary @HillaryClinton @smrtgrls #TinaFey #AmyPoehler http://t.co/3Vp2DRTIge',\n",
       "  194),\n",
       " (u'Waiting anxiously for #HillarysBigAnnouncement \\U0001f601\\u26a1\\ufe0f\\n\\ncc: @HillaryClinton http://t.co/UMP4brzNdq',\n",
       "  185),\n",
       " (u\"RT @PolitiBunny: Guess who else won't be voting for Hillary?\\n\\nStevens\\nDoherty\\nWoods\\nSmith\\n\\n#WhyImNotVotingForHillary #Benghazi\",\n",
       "  171),\n",
       " (u'Limited edition store item: \"Hillary\\'s hard drive\" https://t.co/GAgncz0w7F #libertynothillary',\n",
       "  167),\n",
       " (u'Here are 4 reasons #WhyImNotVotingForHillary\\n \\n\"Did we survive the day?\"  http://t.co/Riq8jqAsD3 http://t.co/OQkN202bct',\n",
       "  149),\n",
       " (u'I want nobody named Bush or Clinton anywhere near our national politics for at least 2 generations. #WhyImNotVotingForHillary',\n",
       "  82),\n",
       " (u\"Hillary announces surprise bid for Lord Commander of the Night's Watch. #WinterIsComing\",\n",
       "  80),\n",
       " (u'\\u2192 http://t.co/GxTALNQy6x Hillary Clinton #HillaryClinton Hillary Clinton Set to Announce 2016 Presidential Bid 710 New Jersey USA Paterson \\u2026',\n",
       "  75),\n",
       " (u\"1. I'm not being paid to\\n2. I don't have amnesia\\n3. My IQ is above room temp\\n4. Seriously, it's @HillaryClinton\\n\\n#WhyImNotVotingForHillary\",\n",
       "  66),\n",
       " (u'Help us get 100,000 signatures to #StopHillary. http://t.co/2SuWaeEeNJ Help stop the Clinton Machine. http://t.co/uaX0SQcpgL',\n",
       "  53)]"
      ]
     },
     "execution_count": 30,
     "metadata": {},
     "output_type": "execute_result"
    }
   ],
   "source": [
    "# The most re-tweeted tweets by the majority\n",
    "count_fav"
   ]
  },
  {
   "cell_type": "code",
   "execution_count": 31,
   "metadata": {
    "collapsed": false,
    "scrolled": false
   },
   "outputs": [
    {
     "data": {
      "image/png": "[encoded data removed]",
      "text/plain": [
       "<matplotlib.figure.Figure at 0x103cf5910>"
      ]
     },
     "metadata": {},
     "output_type": "display_data"
    }
   ],
   "source": [
    "x = np.array([0,1,2,3,4,5,6,7,8,9])\n",
    "y = np.array(zip(*count)[1])\n",
    "xLabel = np.array(list(zip(*count)[0]))\n",
    "plt.xticks(x, xLabel, rotation = 45)\n",
    "plt.bar(x, y)\n",
    "plt.title(\"Most re-tweeted account\")\n",
    "plt.show()"
   ]
  },
  {
   "cell_type": "code",
   "execution_count": 32,
   "metadata": {
    "collapsed": false
   },
   "outputs": [
    {
     "data": {
      "image/png": "[encoded data removed]",
      "text/plain": [
       "<matplotlib.figure.Figure at 0x103d1a850>"
      ]
     },
     "metadata": {},
     "output_type": "display_data"
    }
   ],
   "source": [
    "x_tag = np.array([0,1,2,3,4,5,6,7,8,9,10,11,12,13,14])\n",
    "y_tag = np.array(zip(*count_tag)[1])\n",
    "x_tag_Label = np.array(list(zip(*count_tag)[0]))\n",
    "plt.xticks(x_tag, x_tag_Label, rotation = 90)\n",
    "plt.bar(x_tag, y_tag)\n",
    "plt.title(\"Most popular topics/hashtags\")\n",
    "plt.show()"
   ]
  },
  {
   "cell_type": "code",
   "execution_count": 77,
   "metadata": {
    "collapsed": false
   },
   "outputs": [
    {
     "name": "stdout",
     "output_type": "stream",
     "text": [
      "{\n",
      "    \"contributors\": null, \n",
      "    \"coordinates\": null, \n",
      "    \"created_at\": \"Sun Apr 12 17:15:19 +0000 2015\", \n",
      "    \"entities\": {\n",
      "        \"hashtags\": [], \n",
      "        \"symbols\": [], \n",
      "        \"trends\": [], \n",
      "        \"urls\": [], \n",
      "        \"user_mentions\": [\n",
      "            {\n",
      "                \"id\": 104299137, \n",
      "                \"id_str\": \"104299137\", \n",
      "                \"indices\": [\n",
      "                    3, \n",
      "                    17\n",
      "                ], \n",
      "                \"name\": \"David M. Drucker\", \n",
      "                \"screen_name\": \"DavidMDrucker\"\n",
      "            }\n",
      "        ]\n",
      "    }, \n",
      "    \"favorite_count\": 0, \n",
      "    \"favorited\": false, \n",
      "    \"filter_level\": \"low\", \n",
      "    \"geo\": null, \n",
      "    \"id\": 587302993118294016, \n",
      "    \"id_str\": \"587302993118294016\", \n",
      "    \"in_reply_to_screen_name\": null, \n",
      "    \"in_reply_to_status_id\": null, \n",
      "    \"in_reply_to_status_id_str\": null, \n",
      "    \"in_reply_to_user_id\": null, \n",
      "    \"in_reply_to_user_id_str\": null, \n",
      "    \"lang\": \"en\", \n",
      "    \"place\": null, \n",
      "    \"possibly_sensitive\": false, \n",
      "    \"retweet_count\": 0, \n",
      "    \"retweeted\": false, \n",
      "    \"retweeted_status\": {\n",
      "        \"contributors\": null, \n",
      "        \"coordinates\": null, \n",
      "        \"created_at\": \"Sun Apr 12 17:11:56 +0000 2015\", \n",
      "        \"entities\": {\n",
      "            \"hashtags\": [], \n",
      "            \"symbols\": [], \n",
      "            \"trends\": [], \n",
      "            \"urls\": [], \n",
      "            \"user_mentions\": []\n",
      "        }, \n",
      "        \"favorite_count\": 9, \n",
      "        \"favorited\": false, \n",
      "        \"filter_level\": \"low\", \n",
      "        \"geo\": null, \n",
      "        \"id\": 587302141179600897, \n",
      "        \"id_str\": \"587302141179600897\", \n",
      "        \"in_reply_to_screen_name\": null, \n",
      "        \"in_reply_to_status_id\": null, \n",
      "        \"in_reply_to_status_id_str\": null, \n",
      "        \"in_reply_to_user_id\": null, \n",
      "        \"in_reply_to_user_id_str\": null, \n",
      "        \"lang\": \"en\", \n",
      "        \"place\": null, \n",
      "        \"possibly_sensitive\": false, \n",
      "        \"retweet_count\": 14, \n",
      "        \"retweeted\": false, \n",
      "        \"source\": \"<a href=\\\"https://about.twitter.com/products/tweetdeck\\\" rel=\\\"nofollow\\\">TweetDeck</a>\", \n",
      "        \"text\": \"Maybe Hillary announced on Snap Chat &amp; we missed it before it disappeared.\", \n",
      "        \"truncated\": false, \n",
      "        \"user\": {\n",
      "            \"contributors_enabled\": false, \n",
      "            \"created_at\": \"Tue Jan 12 22:56:50 +0000 2010\", \n",
      "            \"default_profile\": true, \n",
      "            \"default_profile_image\": false, \n",
      "            \"description\": \"@dcexaminer Senior Congressional Correspondent covering Capitol Hill, campaigns & national political trends.\", \n",
      "            \"favourites_count\": 279, \n",
      "            \"follow_request_sent\": null, \n",
      "            \"followers_count\": 20936, \n",
      "            \"following\": null, \n",
      "            \"friends_count\": 2306, \n",
      "            \"geo_enabled\": false, \n",
      "            \"id\": 104299137, \n",
      "            \"id_str\": \"104299137\", \n",
      "            \"is_translator\": false, \n",
      "            \"lang\": \"en\", \n",
      "            \"listed_count\": 957, \n",
      "            \"location\": \"Washington, D.C.\", \n",
      "            \"name\": \"David M. Drucker\", \n",
      "            \"notifications\": null, \n",
      "            \"profile_background_color\": \"C0DEED\", \n",
      "            \"profile_background_image_url\": \"http://abs.twimg.com/images/themes/theme1/bg.png\", \n",
      "            \"profile_background_image_url_https\": \"https://abs.twimg.com/images/themes/theme1/bg.png\", \n",
      "            \"profile_background_tile\": false, \n",
      "            \"profile_banner_url\": \"https://pbs.twimg.com/profile_banners/104299137/1416021332\", \n",
      "            \"profile_image_url\": \"http://pbs.twimg.com/profile_images/1143298131/DDdeli3_normal.jpg\", \n",
      "            \"profile_image_url_https\": \"https://pbs.twimg.com/profile_images/1143298131/DDdeli3_normal.jpg\", \n",
      "            \"profile_link_color\": \"0084B4\", \n",
      "            \"profile_sidebar_border_color\": \"C0DEED\", \n",
      "            \"profile_sidebar_fill_color\": \"DDEEF6\", \n",
      "            \"profile_text_color\": \"333333\", \n",
      "            \"profile_use_background_image\": true, \n",
      "            \"protected\": false, \n",
      "            \"screen_name\": \"DavidMDrucker\", \n",
      "            \"statuses_count\": 66347, \n",
      "            \"time_zone\": \"Eastern Time (US & Canada)\", \n",
      "            \"url\": \"http://www.washingtonexaminer.com\", \n",
      "            \"utc_offset\": -14400, \n",
      "            \"verified\": false\n",
      "        }\n",
      "    }, \n",
      "    \"source\": \"<a href=\\\"http://twitter.com/download/iphone\\\" rel=\\\"nofollow\\\">Twitter for iPhone</a>\", \n",
      "    \"text\": \"RT @DavidMDrucker: Maybe Hillary announced on Snap Chat &amp; we missed it before it disappeared.\", \n",
      "    \"timestamp_ms\": \"1428858919778\", \n",
      "    \"truncated\": false, \n",
      "    \"user\": {\n",
      "        \"contributors_enabled\": false, \n",
      "        \"created_at\": \"Mon Mar 30 17:51:44 +0000 2009\", \n",
      "        \"default_profile\": false, \n",
      "        \"default_profile_image\": false, \n",
      "        \"description\": \"It's like vinegar with a P. 9th gen Hoosier, Proud Munsonian, @SenDanCoats leg staff, @TaylorU grad, @helloHilary88 hubs, (RTs,Favs\\u2260endorse) \\u2627\", \n",
      "        \"favourites_count\": 6482, \n",
      "        \"follow_request_sent\": null, \n",
      "        \"followers_count\": 314, \n",
      "        \"following\": null, \n",
      "        \"friends_count\": 238, \n",
      "        \"geo_enabled\": false, \n",
      "        \"id\": 27690786, \n",
      "        \"id_str\": \"27690786\", \n",
      "        \"is_translator\": false, \n",
      "        \"lang\": \"en\", \n",
      "        \"listed_count\": 23, \n",
      "        \"location\": \"IND/DMV/HHI\", \n",
      "        \"name\": \"Phillip Pinegar\", \n",
      "        \"notifications\": null, \n",
      "        \"profile_background_color\": \"131516\", \n",
      "        \"profile_background_image_url\": \"http://pbs.twimg.com/profile_background_images/378800000100971092/1d70e0b3c24c5878ace313d87807a022.jpeg\", \n",
      "        \"profile_background_image_url_https\": \"https://pbs.twimg.com/profile_background_images/378800000100971092/1d70e0b3c24c5878ace313d87807a022.jpeg\", \n",
      "        \"profile_background_tile\": true, \n",
      "        \"profile_banner_url\": \"https://pbs.twimg.com/profile_banners/27690786/1423193189\", \n",
      "        \"profile_image_url\": \"http://pbs.twimg.com/profile_images/584457989769322497/NmZZdotH_normal.jpg\", \n",
      "        \"profile_image_url_https\": \"https://pbs.twimg.com/profile_images/584457989769322497/NmZZdotH_normal.jpg\", \n",
      "        \"profile_link_color\": \"ABB8C2\", \n",
      "        \"profile_sidebar_border_color\": \"000000\", \n",
      "        \"profile_sidebar_fill_color\": \"252429\", \n",
      "        \"profile_text_color\": \"666666\", \n",
      "        \"profile_use_background_image\": true, \n",
      "        \"protected\": false, \n",
      "        \"screen_name\": \"WestwoodKing\", \n",
      "        \"statuses_count\": 4658, \n",
      "        \"time_zone\": \"Quito\", \n",
      "        \"url\": null, \n",
      "        \"utc_offset\": -18000, \n",
      "        \"verified\": false\n",
      "    }\n",
      "}\n"
     ]
    }
   ],
   "source": [
    "with open('2015_04_12_17_15_19.json') as file:\n",
    "    line = file.readline()\n",
    "    l = json.loads(line)\n",
    "    print json.dumps(l, indent = 4, sort_keys = True)"
   ]
  },
  {
   "cell_type": "code",
   "execution_count": null,
   "metadata": {
    "collapsed": true
   },
   "outputs": [],
   "source": []
  }
 ],
 "metadata": {
  "kernelspec": {
   "display_name": "Python 2",
   "language": "python",
   "name": "python2"
  },
  "language_info": {
   "codemirror_mode": {
    "name": "ipython",
    "version": 2
   },
   "file_extension": ".py",
   "mimetype": "text/x-python",
   "name": "python",
   "nbconvert_exporter": "python",
   "pygments_lexer": "ipython2",
   "version": "2.7.10"
  }
 },
 "nbformat": 4,
 "nbformat_minor": 0
}
